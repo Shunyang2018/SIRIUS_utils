{
 "cells": [
  {
   "cell_type": "code",
   "execution_count": 40,
   "id": "3a39507e",
   "metadata": {},
   "outputs": [],
   "source": [
    "import pandas as pd\n",
    "import numpy as np\n",
    "import seaborn as sn\n",
    "from tqdm import tqdm\n",
    "import urllib.parse\n",
    "import grequests"
   ]
  },
  {
   "cell_type": "code",
   "execution_count": null,
   "id": "952075ed",
   "metadata": {},
   "outputs": [],
   "source": [
    "clean = pd.read_excel('./July/July.xlsx',sheet_name='all')"
   ]
  },
  {
   "cell_type": "code",
   "execution_count": 4,
   "id": "795259cb",
   "metadata": {
    "scrolled": true
   },
   "outputs": [
    {
     "data": {
      "text/html": [
       "<div>\n",
       "<style scoped>\n",
       "    .dataframe tbody tr th:only-of-type {\n",
       "        vertical-align: middle;\n",
       "    }\n",
       "\n",
       "    .dataframe tbody tr th {\n",
       "        vertical-align: top;\n",
       "    }\n",
       "\n",
       "    .dataframe thead th {\n",
       "        text-align: right;\n",
       "    }\n",
       "</style>\n",
       "<table border=\"1\" class=\"dataframe\">\n",
       "  <thead>\n",
       "    <tr style=\"text-align: right;\">\n",
       "      <th></th>\n",
       "      <th>Order</th>\n",
       "      <th>Source</th>\n",
       "      <th>ChemicalName</th>\n",
       "      <th>C18RT</th>\n",
       "      <th>PFPRT</th>\n",
       "      <th>INCHIKEY</th>\n",
       "      <th>Short</th>\n",
       "      <th>CanonicalSMILES</th>\n",
       "    </tr>\n",
       "  </thead>\n",
       "  <tbody>\n",
       "    <tr>\n",
       "      <th>0</th>\n",
       "      <td>1</td>\n",
       "      <td>analyticon</td>\n",
       "      <td>Chebuloside II</td>\n",
       "      <td>3.647</td>\n",
       "      <td>3.378</td>\n",
       "      <td>DZVIFFMYEULLBY-NSOPSRGASA-N</td>\n",
       "      <td>DZVIFFMYEULLBY</td>\n",
       "      <td>CC1(CCC2(CCC3(C(=CCC4C3(CC(C5C4(CC(C(C5(C)CO)O...</td>\n",
       "    </tr>\n",
       "    <tr>\n",
       "      <th>1</th>\n",
       "      <td>2</td>\n",
       "      <td>analyticon</td>\n",
       "      <td>Nigaichigoside F1</td>\n",
       "      <td>3.635</td>\n",
       "      <td>3.403</td>\n",
       "      <td>WKKBYJLXSKPKSC-VBXFOCAZSA-N</td>\n",
       "      <td>WKKBYJLXSKPKSC</td>\n",
       "      <td>CC1CCC2(CCC3(C(=CCC4C3(CCC5C4(CC(C(C5(C)CO)O)O...</td>\n",
       "    </tr>\n",
       "    <tr>\n",
       "      <th>2</th>\n",
       "      <td>3</td>\n",
       "      <td>analyticon</td>\n",
       "      <td>Arjunglucoside I</td>\n",
       "      <td>3.869</td>\n",
       "      <td>3.410</td>\n",
       "      <td>CMZFNIMQBCBHEX-KXLFRROQSA-N</td>\n",
       "      <td>CMZFNIMQBCBHEX</td>\n",
       "      <td>CC1(CCC2(CCC3(C(=CCC4C3(CCC5C4(CC(C(C5(C)CO)O)...</td>\n",
       "    </tr>\n",
       "    <tr>\n",
       "      <th>3</th>\n",
       "      <td>4</td>\n",
       "      <td>analyticon</td>\n",
       "      <td>Ilexsaponin A1</td>\n",
       "      <td>4.800</td>\n",
       "      <td>4.360</td>\n",
       "      <td>AWFZJSUJFSUBQU-FZEZCDDVSA-N</td>\n",
       "      <td>AWFZJSUJFSUBQU</td>\n",
       "      <td>CC1CCC2(CCC3(C(=CCC4C3(CCC5C4(CCC(C5(C)C(=O)O)...</td>\n",
       "    </tr>\n",
       "    <tr>\n",
       "      <th>4</th>\n",
       "      <td>5</td>\n",
       "      <td>analyticon</td>\n",
       "      <td>CID 45783224</td>\n",
       "      <td>4.544</td>\n",
       "      <td>4.171</td>\n",
       "      <td>KISJFUMXCJBLJV-ZZDFEWANSA-N</td>\n",
       "      <td>KISJFUMXCJBLJV</td>\n",
       "      <td>CC(=C)CCC(=O)C(C)(C1C(CC2(C1(CC(=O)C3(C2CC=C4C...</td>\n",
       "    </tr>\n",
       "  </tbody>\n",
       "</table>\n",
       "</div>"
      ],
      "text/plain": [
       "   Order      Source       ChemicalName  C18RT  PFPRT  \\\n",
       "0      1  analyticon     Chebuloside II  3.647  3.378   \n",
       "1      2  analyticon  Nigaichigoside F1  3.635  3.403   \n",
       "2      3  analyticon   Arjunglucoside I  3.869  3.410   \n",
       "3      4  analyticon     Ilexsaponin A1  4.800  4.360   \n",
       "4      5  analyticon       CID 45783224  4.544  4.171   \n",
       "\n",
       "                      INCHIKEY           Short  \\\n",
       "0  DZVIFFMYEULLBY-NSOPSRGASA-N  DZVIFFMYEULLBY   \n",
       "1  WKKBYJLXSKPKSC-VBXFOCAZSA-N  WKKBYJLXSKPKSC   \n",
       "2  CMZFNIMQBCBHEX-KXLFRROQSA-N  CMZFNIMQBCBHEX   \n",
       "3  AWFZJSUJFSUBQU-FZEZCDDVSA-N  AWFZJSUJFSUBQU   \n",
       "4  KISJFUMXCJBLJV-ZZDFEWANSA-N  KISJFUMXCJBLJV   \n",
       "\n",
       "                                     CanonicalSMILES  \n",
       "0  CC1(CCC2(CCC3(C(=CCC4C3(CC(C5C4(CC(C(C5(C)CO)O...  \n",
       "1  CC1CCC2(CCC3(C(=CCC4C3(CCC5C4(CC(C(C5(C)CO)O)O...  \n",
       "2  CC1(CCC2(CCC3(C(=CCC4C3(CCC5C4(CC(C(C5(C)CO)O)...  \n",
       "3  CC1CCC2(CCC3(C(=CCC4C3(CCC5C4(CCC(C5(C)C(=O)O)...  \n",
       "4  CC(=C)CCC(=O)C(C)(C1C(CC2(C1(CC(=O)C3(C2CC=C4C...  "
      ]
     },
     "execution_count": 4,
     "metadata": {},
     "output_type": "execute_result"
    }
   ],
   "source": [
    "clean.head()"
   ]
  },
  {
   "cell_type": "markdown",
   "id": "327bd6f6",
   "metadata": {},
   "source": [
    "## Check duplicates"
   ]
  },
  {
   "cell_type": "markdown",
   "id": "8b967bdc",
   "metadata": {},
   "source": [
    "### C18"
   ]
  },
  {
   "cell_type": "code",
   "execution_count": 21,
   "id": "81f14a13",
   "metadata": {},
   "outputs": [
    {
     "data": {
      "text/html": [
       "<div>\n",
       "<style scoped>\n",
       "    .dataframe tbody tr th:only-of-type {\n",
       "        vertical-align: middle;\n",
       "    }\n",
       "\n",
       "    .dataframe tbody tr th {\n",
       "        vertical-align: top;\n",
       "    }\n",
       "\n",
       "    .dataframe thead th {\n",
       "        text-align: right;\n",
       "    }\n",
       "</style>\n",
       "<table border=\"1\" class=\"dataframe\">\n",
       "  <thead>\n",
       "    <tr style=\"text-align: right;\">\n",
       "      <th></th>\n",
       "      <th>INCHIKEY</th>\n",
       "      <th>diff</th>\n",
       "    </tr>\n",
       "  </thead>\n",
       "  <tbody>\n",
       "    <tr>\n",
       "      <th>3</th>\n",
       "      <td>BTCICADMSGBCKA-UHFFFAOYSA-N</td>\n",
       "      <td>0.312</td>\n",
       "    </tr>\n",
       "    <tr>\n",
       "      <th>9</th>\n",
       "      <td>PVHUKALHRBPQNM-BSWSSELBSA-N</td>\n",
       "      <td>1.203</td>\n",
       "    </tr>\n",
       "    <tr>\n",
       "      <th>17</th>\n",
       "      <td>SRCSHETVEHQXLC-RBISFHTESA-N</td>\n",
       "      <td>0.800</td>\n",
       "    </tr>\n",
       "    <tr>\n",
       "      <th>23</th>\n",
       "      <td>LHZKHFYNHHUDEF-UHFFFAOYSA-N</td>\n",
       "      <td>0.311</td>\n",
       "    </tr>\n",
       "    <tr>\n",
       "      <th>25</th>\n",
       "      <td>YSFNIMJWUPAQKC-XZOQMXBNSA-N</td>\n",
       "      <td>1.143</td>\n",
       "    </tr>\n",
       "    <tr>\n",
       "      <th>26</th>\n",
       "      <td>XFAGPJNDBTUJPH-PJQSMRKJSA-N</td>\n",
       "      <td>2.683</td>\n",
       "    </tr>\n",
       "    <tr>\n",
       "      <th>31</th>\n",
       "      <td>FFMVHFPLIIYYNC-UHFFFAOYSA-N</td>\n",
       "      <td>1.111</td>\n",
       "    </tr>\n",
       "    <tr>\n",
       "      <th>44</th>\n",
       "      <td>RNQBLQALVMHBKH-UHFFFAOYSA-N</td>\n",
       "      <td>0.600</td>\n",
       "    </tr>\n",
       "    <tr>\n",
       "      <th>58</th>\n",
       "      <td>ULSUXBXHSYSGDT-UHFFFAOYSA-N</td>\n",
       "      <td>0.360</td>\n",
       "    </tr>\n",
       "    <tr>\n",
       "      <th>60</th>\n",
       "      <td>OEWCQSJKSNWJTH-UHFFFAOYSA-N</td>\n",
       "      <td>1.866</td>\n",
       "    </tr>\n",
       "    <tr>\n",
       "      <th>61</th>\n",
       "      <td>CWVRJTMFETXNAD-JUHZACGLSA-N</td>\n",
       "      <td>0.348</td>\n",
       "    </tr>\n",
       "    <tr>\n",
       "      <th>63</th>\n",
       "      <td>IKMDFBPHZNJCSN-UHFFFAOYSA-N</td>\n",
       "      <td>3.340</td>\n",
       "    </tr>\n",
       "    <tr>\n",
       "      <th>81</th>\n",
       "      <td>HVQAJTFOCKOKIN-UHFFFAOYSA-N</td>\n",
       "      <td>0.437</td>\n",
       "    </tr>\n",
       "    <tr>\n",
       "      <th>88</th>\n",
       "      <td>OCINXEZVIIVXFU-UHFFFAOYSA-N</td>\n",
       "      <td>6.122</td>\n",
       "    </tr>\n",
       "    <tr>\n",
       "      <th>99</th>\n",
       "      <td>RWSXRVCMGQZWBV-WDSKDSINSA-N</td>\n",
       "      <td>0.600</td>\n",
       "    </tr>\n",
       "    <tr>\n",
       "      <th>104</th>\n",
       "      <td>KXGVEGMKQFWNSR-LLQZFEROSA-N</td>\n",
       "      <td>0.561</td>\n",
       "    </tr>\n",
       "    <tr>\n",
       "      <th>110</th>\n",
       "      <td>WVTKBKWTSCPRNU-KYJUHHDHSA-N</td>\n",
       "      <td>3.129</td>\n",
       "    </tr>\n",
       "    <tr>\n",
       "      <th>117</th>\n",
       "      <td>QANMHLXAZMSUEX-UHFFFAOYSA-N</td>\n",
       "      <td>0.405</td>\n",
       "    </tr>\n",
       "    <tr>\n",
       "      <th>119</th>\n",
       "      <td>QYSXJUFSXHHAJI-YRZJJWOYSA-N</td>\n",
       "      <td>0.954</td>\n",
       "    </tr>\n",
       "  </tbody>\n",
       "</table>\n",
       "</div>"
      ],
      "text/plain": [
       "                        INCHIKEY   diff\n",
       "3    BTCICADMSGBCKA-UHFFFAOYSA-N  0.312\n",
       "9    PVHUKALHRBPQNM-BSWSSELBSA-N  1.203\n",
       "17   SRCSHETVEHQXLC-RBISFHTESA-N  0.800\n",
       "23   LHZKHFYNHHUDEF-UHFFFAOYSA-N  0.311\n",
       "25   YSFNIMJWUPAQKC-XZOQMXBNSA-N  1.143\n",
       "26   XFAGPJNDBTUJPH-PJQSMRKJSA-N  2.683\n",
       "31   FFMVHFPLIIYYNC-UHFFFAOYSA-N  1.111\n",
       "44   RNQBLQALVMHBKH-UHFFFAOYSA-N  0.600\n",
       "58   ULSUXBXHSYSGDT-UHFFFAOYSA-N  0.360\n",
       "60   OEWCQSJKSNWJTH-UHFFFAOYSA-N  1.866\n",
       "61   CWVRJTMFETXNAD-JUHZACGLSA-N  0.348\n",
       "63   IKMDFBPHZNJCSN-UHFFFAOYSA-N  3.340\n",
       "81   HVQAJTFOCKOKIN-UHFFFAOYSA-N  0.437\n",
       "88   OCINXEZVIIVXFU-UHFFFAOYSA-N  6.122\n",
       "99   RWSXRVCMGQZWBV-WDSKDSINSA-N  0.600\n",
       "104  KXGVEGMKQFWNSR-LLQZFEROSA-N  0.561\n",
       "110  WVTKBKWTSCPRNU-KYJUHHDHSA-N  3.129\n",
       "117  QANMHLXAZMSUEX-UHFFFAOYSA-N  0.405\n",
       "119  QYSXJUFSXHHAJI-YRZJJWOYSA-N  0.954"
      ]
     },
     "execution_count": 21,
     "metadata": {},
     "output_type": "execute_result"
    },
    {
     "data": {
      "image/png": "[encoded data removed]",
      "text/plain": [
       "<Figure size 500x500 with 1 Axes>"
      ]
     },
     "metadata": {},
     "output_type": "display_data"
    }
   ],
   "source": [
    "for column in ['C18RT']:\n",
    "    clean2 = clean[clean[column].notnull()]\n",
    "    dup = clean2['INCHIKEY'][clean2.duplicated(['INCHIKEY'],keep=False)]\n",
    "    dup = dup.unique()\n",
    "    diff = []\n",
    "    for key in dup:\n",
    "        value = clean[column][clean['INCHIKEY']==key]\n",
    "        diff.append(value.max() - value.min())\n",
    "    \n",
    "    hist = sn.displot(diff,binwidth=0.1)\n",
    "    hist.set(xlabel=column)\n",
    "    \n",
    "    df = pd.DataFrame({'INCHIKEY':dup, 'diff':diff})\n",
    "    mean = df['diff'].mean()\n",
    "df[df['diff']>0.3]"
   ]
  },
  {
   "cell_type": "code",
   "execution_count": 20,
   "id": "78f0d2a0",
   "metadata": {},
   "outputs": [
    {
     "data": {
      "text/html": [
       "<div>\n",
       "<style scoped>\n",
       "    .dataframe tbody tr th:only-of-type {\n",
       "        vertical-align: middle;\n",
       "    }\n",
       "\n",
       "    .dataframe tbody tr th {\n",
       "        vertical-align: top;\n",
       "    }\n",
       "\n",
       "    .dataframe thead th {\n",
       "        text-align: right;\n",
       "    }\n",
       "</style>\n",
       "<table border=\"1\" class=\"dataframe\">\n",
       "  <thead>\n",
       "    <tr style=\"text-align: right;\">\n",
       "      <th></th>\n",
       "      <th>INCHIKEY</th>\n",
       "      <th>diff</th>\n",
       "    </tr>\n",
       "  </thead>\n",
       "  <tbody>\n",
       "    <tr>\n",
       "      <th>2</th>\n",
       "      <td>ZOEFIRUNMVHSJA-XXZDZOCTSA-N</td>\n",
       "      <td>1.150</td>\n",
       "    </tr>\n",
       "    <tr>\n",
       "      <th>4</th>\n",
       "      <td>DNXHEGUUPJUMQT-CBZIJGRNSA-N</td>\n",
       "      <td>0.492</td>\n",
       "    </tr>\n",
       "    <tr>\n",
       "      <th>5</th>\n",
       "      <td>BTCICADMSGBCKA-UHFFFAOYSA-N</td>\n",
       "      <td>2.480</td>\n",
       "    </tr>\n",
       "    <tr>\n",
       "      <th>6</th>\n",
       "      <td>NPDSHTNEKLQQIJ-SIGMCMEVSA-N</td>\n",
       "      <td>0.978</td>\n",
       "    </tr>\n",
       "    <tr>\n",
       "      <th>11</th>\n",
       "      <td>OGTDCWCKOKLYSK-UHFFFAOYSA-N</td>\n",
       "      <td>3.103</td>\n",
       "    </tr>\n",
       "    <tr>\n",
       "      <th>...</th>\n",
       "      <td>...</td>\n",
       "      <td>...</td>\n",
       "    </tr>\n",
       "    <tr>\n",
       "      <th>127</th>\n",
       "      <td>OVBPIULPVIDEAO-LBPRGKRZSA-N</td>\n",
       "      <td>0.369</td>\n",
       "    </tr>\n",
       "    <tr>\n",
       "      <th>129</th>\n",
       "      <td>IXORZMNAPKEEDV-OBDJNFEBSA-N</td>\n",
       "      <td>0.345</td>\n",
       "    </tr>\n",
       "    <tr>\n",
       "      <th>130</th>\n",
       "      <td>WUBBRNOQWQTFEX-UHFFFAOYSA-N</td>\n",
       "      <td>0.324</td>\n",
       "    </tr>\n",
       "    <tr>\n",
       "      <th>135</th>\n",
       "      <td>AGOYDEPGAOXOCK-KCBOHYOISA-N</td>\n",
       "      <td>0.398</td>\n",
       "    </tr>\n",
       "    <tr>\n",
       "      <th>138</th>\n",
       "      <td>QEVHRUUCFGRFIF-MDEJGZGSSA-N</td>\n",
       "      <td>0.630</td>\n",
       "    </tr>\n",
       "  </tbody>\n",
       "</table>\n",
       "<p>82 rows × 2 columns</p>\n",
       "</div>"
      ],
      "text/plain": [
       "                        INCHIKEY   diff\n",
       "2    ZOEFIRUNMVHSJA-XXZDZOCTSA-N  1.150\n",
       "4    DNXHEGUUPJUMQT-CBZIJGRNSA-N  0.492\n",
       "5    BTCICADMSGBCKA-UHFFFAOYSA-N  2.480\n",
       "6    NPDSHTNEKLQQIJ-SIGMCMEVSA-N  0.978\n",
       "11   OGTDCWCKOKLYSK-UHFFFAOYSA-N  3.103\n",
       "..                           ...    ...\n",
       "127  OVBPIULPVIDEAO-LBPRGKRZSA-N  0.369\n",
       "129  IXORZMNAPKEEDV-OBDJNFEBSA-N  0.345\n",
       "130  WUBBRNOQWQTFEX-UHFFFAOYSA-N  0.324\n",
       "135  AGOYDEPGAOXOCK-KCBOHYOISA-N  0.398\n",
       "138  QEVHRUUCFGRFIF-MDEJGZGSSA-N  0.630\n",
       "\n",
       "[82 rows x 2 columns]"
      ]
     },
     "execution_count": 20,
     "metadata": {},
     "output_type": "execute_result"
    }
   ],
   "source": []
  },
  {
   "cell_type": "markdown",
   "id": "01f926b6",
   "metadata": {},
   "source": [
    "### PFP\n",
    "\n",
    "PFP result is worse than C18;\n",
    "1) more duplicates\n",
    "2) more difference > 0.3 min"
   ]
  },
  {
   "cell_type": "code",
   "execution_count": 19,
   "id": "30db0f29",
   "metadata": {},
   "outputs": [
    {
     "data": {
      "text/html": [
       "<div>\n",
       "<style scoped>\n",
       "    .dataframe tbody tr th:only-of-type {\n",
       "        vertical-align: middle;\n",
       "    }\n",
       "\n",
       "    .dataframe tbody tr th {\n",
       "        vertical-align: top;\n",
       "    }\n",
       "\n",
       "    .dataframe thead th {\n",
       "        text-align: right;\n",
       "    }\n",
       "</style>\n",
       "<table border=\"1\" class=\"dataframe\">\n",
       "  <thead>\n",
       "    <tr style=\"text-align: right;\">\n",
       "      <th></th>\n",
       "      <th>INCHIKEY</th>\n",
       "      <th>diff</th>\n",
       "    </tr>\n",
       "  </thead>\n",
       "  <tbody>\n",
       "    <tr>\n",
       "      <th>2</th>\n",
       "      <td>ZOEFIRUNMVHSJA-XXZDZOCTSA-N</td>\n",
       "      <td>1.150</td>\n",
       "    </tr>\n",
       "    <tr>\n",
       "      <th>4</th>\n",
       "      <td>DNXHEGUUPJUMQT-CBZIJGRNSA-N</td>\n",
       "      <td>0.492</td>\n",
       "    </tr>\n",
       "    <tr>\n",
       "      <th>5</th>\n",
       "      <td>BTCICADMSGBCKA-UHFFFAOYSA-N</td>\n",
       "      <td>2.480</td>\n",
       "    </tr>\n",
       "    <tr>\n",
       "      <th>6</th>\n",
       "      <td>NPDSHTNEKLQQIJ-SIGMCMEVSA-N</td>\n",
       "      <td>0.978</td>\n",
       "    </tr>\n",
       "    <tr>\n",
       "      <th>11</th>\n",
       "      <td>OGTDCWCKOKLYSK-UHFFFAOYSA-N</td>\n",
       "      <td>3.103</td>\n",
       "    </tr>\n",
       "    <tr>\n",
       "      <th>...</th>\n",
       "      <td>...</td>\n",
       "      <td>...</td>\n",
       "    </tr>\n",
       "    <tr>\n",
       "      <th>127</th>\n",
       "      <td>OVBPIULPVIDEAO-LBPRGKRZSA-N</td>\n",
       "      <td>0.369</td>\n",
       "    </tr>\n",
       "    <tr>\n",
       "      <th>129</th>\n",
       "      <td>IXORZMNAPKEEDV-OBDJNFEBSA-N</td>\n",
       "      <td>0.345</td>\n",
       "    </tr>\n",
       "    <tr>\n",
       "      <th>130</th>\n",
       "      <td>WUBBRNOQWQTFEX-UHFFFAOYSA-N</td>\n",
       "      <td>0.324</td>\n",
       "    </tr>\n",
       "    <tr>\n",
       "      <th>135</th>\n",
       "      <td>AGOYDEPGAOXOCK-KCBOHYOISA-N</td>\n",
       "      <td>0.398</td>\n",
       "    </tr>\n",
       "    <tr>\n",
       "      <th>138</th>\n",
       "      <td>QEVHRUUCFGRFIF-MDEJGZGSSA-N</td>\n",
       "      <td>0.630</td>\n",
       "    </tr>\n",
       "  </tbody>\n",
       "</table>\n",
       "<p>82 rows × 2 columns</p>\n",
       "</div>"
      ],
      "text/plain": [
       "                        INCHIKEY   diff\n",
       "2    ZOEFIRUNMVHSJA-XXZDZOCTSA-N  1.150\n",
       "4    DNXHEGUUPJUMQT-CBZIJGRNSA-N  0.492\n",
       "5    BTCICADMSGBCKA-UHFFFAOYSA-N  2.480\n",
       "6    NPDSHTNEKLQQIJ-SIGMCMEVSA-N  0.978\n",
       "11   OGTDCWCKOKLYSK-UHFFFAOYSA-N  3.103\n",
       "..                           ...    ...\n",
       "127  OVBPIULPVIDEAO-LBPRGKRZSA-N  0.369\n",
       "129  IXORZMNAPKEEDV-OBDJNFEBSA-N  0.345\n",
       "130  WUBBRNOQWQTFEX-UHFFFAOYSA-N  0.324\n",
       "135  AGOYDEPGAOXOCK-KCBOHYOISA-N  0.398\n",
       "138  QEVHRUUCFGRFIF-MDEJGZGSSA-N  0.630\n",
       "\n",
       "[82 rows x 2 columns]"
      ]
     },
     "execution_count": 19,
     "metadata": {},
     "output_type": "execute_result"
    },
    {
     "data": {
      "image/png": "[encoded data removed]",
      "text/plain": [
       "<Figure size 500x500 with 1 Axes>"
      ]
     },
     "metadata": {},
     "output_type": "display_data"
    }
   ],
   "source": [
    "for column in ['PFPRT']:\n",
    "    clean2 = clean[clean[column].notnull()]\n",
    "    dup = clean2['INCHIKEY'][clean2.duplicated(['INCHIKEY'],keep=False)]\n",
    "    dup = dup.unique()\n",
    "    diff = []\n",
    "    for key in dup:\n",
    "        value = clean[column][clean['INCHIKEY']==key]\n",
    "        diff.append(value.max() - value.min())\n",
    "    \n",
    "    hist = sn.displot(diff,binwidth=0.1)\n",
    "    hist.set(xlabel=column)\n",
    "    \n",
    "    df = pd.DataFrame({'INCHIKEY':dup, 'diff':diff})\n",
    "    mean = df['diff'].mean()\n",
    "df[df['diff']>0.3]"
   ]
  },
  {
   "cell_type": "markdown",
   "id": "cfed15ea",
   "metadata": {},
   "source": [
    "## Get classifications"
   ]
  },
  {
   "cell_type": "markdown",
   "id": "8304aff3",
   "metadata": {},
   "source": [
    "### Remove null SMILES"
   ]
  },
  {
   "cell_type": "code",
   "execution_count": 37,
   "id": "e98a4b8d",
   "metadata": {},
   "outputs": [],
   "source": [
    "clean = clean[clean['CanonicalSMILES'].notnull()]"
   ]
  },
  {
   "cell_type": "markdown",
   "id": "ba41a324",
   "metadata": {},
   "source": [
    "### Classyfire\n",
    "API: https://gnps-structure.ucsd.edu/classyfire?smiles=<smiles string\\>\n"
   ]
  },
  {
   "cell_type": "markdown",
   "id": "ae5b4aad",
   "metadata": {},
   "source": [
    "### NP Classifier\n",
    "API: http://127.0.0.1:6541/classify?smiles=<smiles string\\>"
   ]
  },
  {
   "cell_type": "code",
   "execution_count": 61,
   "id": "681b2580",
   "metadata": {},
   "outputs": [],
   "source": [
    "SERVER_URL = \"http://192.168.128.240:6541/\"\n",
    "SERVER_URL = \"https://npclassifier.ucsd.edu/\"\n",
    "smiles_list = clean[\"CanonicalSMILES\"].to_list()\n",
    "\n",
    "all_urls = []\n",
    "\n",
    "for smiles in smiles_list:\n",
    "   \n",
    "\n",
    "    request_url = \"{}/classify?smiles={}\".format(SERVER_URL, urllib.parse.quote(smiles))\n",
    "    all_urls.append(request_url)"
   ]
  },
  {
   "cell_type": "code",
   "execution_count": 62,
   "id": "053a0a2b",
   "metadata": {},
   "outputs": [],
   "source": [
    "# Lets actually do the query \n",
    "rs = (grequests.get(u) for u in all_urls)\n",
    "responses = grequests.map(rs, size=20)"
   ]
  },
  {
   "cell_type": "code",
   "execution_count": 63,
   "id": "09035fbc",
   "metadata": {},
   "outputs": [
    {
     "ename": "JSONDecodeError",
     "evalue": "[Errno Expecting value] <!DOCTYPE HTML PUBLIC \"-//W3C//DTD HTML 3.2 Final//EN\">\n<title>500 Internal Server Error</title>\n<h1>Internal Server Error</h1>\n<p>The server encountered an internal error and was unable to complete your request. Either the server is overloaded or there is an error in the application.</p>\n: 0",
     "output_type": "error",
     "traceback": [
      "\u001b[1;31m---------------------------------------------------------------------------\u001b[0m",
      "\u001b[1;31mJSONDecodeError\u001b[0m                           Traceback (most recent call last)",
      "\u001b[1;32mC:\\ProgramData\\Miniconda3\\envs\\autogluon\\lib\\site-packages\\requests\\models.py\u001b[0m in \u001b[0;36mjson\u001b[1;34m(self, **kwargs)\u001b[0m\n\u001b[0;32m    909\u001b[0m         \u001b[1;32mtry\u001b[0m\u001b[1;33m:\u001b[0m\u001b[1;33m\u001b[0m\u001b[1;33m\u001b[0m\u001b[0m\n\u001b[1;32m--> 910\u001b[1;33m             \u001b[1;32mreturn\u001b[0m \u001b[0mcomplexjson\u001b[0m\u001b[1;33m.\u001b[0m\u001b[0mloads\u001b[0m\u001b[1;33m(\u001b[0m\u001b[0mself\u001b[0m\u001b[1;33m.\u001b[0m\u001b[0mtext\u001b[0m\u001b[1;33m,\u001b[0m \u001b[1;33m**\u001b[0m\u001b[0mkwargs\u001b[0m\u001b[1;33m)\u001b[0m\u001b[1;33m\u001b[0m\u001b[1;33m\u001b[0m\u001b[0m\n\u001b[0m\u001b[0;32m    911\u001b[0m         \u001b[1;32mexcept\u001b[0m \u001b[0mJSONDecodeError\u001b[0m \u001b[1;32mas\u001b[0m \u001b[0me\u001b[0m\u001b[1;33m:\u001b[0m\u001b[1;33m\u001b[0m\u001b[1;33m\u001b[0m\u001b[0m\n",
      "\u001b[1;32mC:\\ProgramData\\Miniconda3\\envs\\autogluon\\lib\\json\\__init__.py\u001b[0m in \u001b[0;36mloads\u001b[1;34m(s, cls, object_hook, parse_float, parse_int, parse_constant, object_pairs_hook, **kw)\u001b[0m\n\u001b[0;32m    345\u001b[0m             parse_constant is None and object_pairs_hook is None and not kw):\n\u001b[1;32m--> 346\u001b[1;33m         \u001b[1;32mreturn\u001b[0m \u001b[0m_default_decoder\u001b[0m\u001b[1;33m.\u001b[0m\u001b[0mdecode\u001b[0m\u001b[1;33m(\u001b[0m\u001b[0ms\u001b[0m\u001b[1;33m)\u001b[0m\u001b[1;33m\u001b[0m\u001b[1;33m\u001b[0m\u001b[0m\n\u001b[0m\u001b[0;32m    347\u001b[0m     \u001b[1;32mif\u001b[0m \u001b[0mcls\u001b[0m \u001b[1;32mis\u001b[0m \u001b[1;32mNone\u001b[0m\u001b[1;33m:\u001b[0m\u001b[1;33m\u001b[0m\u001b[1;33m\u001b[0m\u001b[0m\n",
      "\u001b[1;32mC:\\ProgramData\\Miniconda3\\envs\\autogluon\\lib\\json\\decoder.py\u001b[0m in \u001b[0;36mdecode\u001b[1;34m(self, s, _w)\u001b[0m\n\u001b[0;32m    336\u001b[0m         \"\"\"\n\u001b[1;32m--> 337\u001b[1;33m         \u001b[0mobj\u001b[0m\u001b[1;33m,\u001b[0m \u001b[0mend\u001b[0m \u001b[1;33m=\u001b[0m \u001b[0mself\u001b[0m\u001b[1;33m.\u001b[0m\u001b[0mraw_decode\u001b[0m\u001b[1;33m(\u001b[0m\u001b[0ms\u001b[0m\u001b[1;33m,\u001b[0m \u001b[0midx\u001b[0m\u001b[1;33m=\u001b[0m\u001b[0m_w\u001b[0m\u001b[1;33m(\u001b[0m\u001b[0ms\u001b[0m\u001b[1;33m,\u001b[0m \u001b[1;36m0\u001b[0m\u001b[1;33m)\u001b[0m\u001b[1;33m.\u001b[0m\u001b[0mend\u001b[0m\u001b[1;33m(\u001b[0m\u001b[1;33m)\u001b[0m\u001b[1;33m)\u001b[0m\u001b[1;33m\u001b[0m\u001b[1;33m\u001b[0m\u001b[0m\n\u001b[0m\u001b[0;32m    338\u001b[0m         \u001b[0mend\u001b[0m \u001b[1;33m=\u001b[0m \u001b[0m_w\u001b[0m\u001b[1;33m(\u001b[0m\u001b[0ms\u001b[0m\u001b[1;33m,\u001b[0m \u001b[0mend\u001b[0m\u001b[1;33m)\u001b[0m\u001b[1;33m.\u001b[0m\u001b[0mend\u001b[0m\u001b[1;33m(\u001b[0m\u001b[1;33m)\u001b[0m\u001b[1;33m\u001b[0m\u001b[1;33m\u001b[0m\u001b[0m\n",
      "\u001b[1;32mC:\\ProgramData\\Miniconda3\\envs\\autogluon\\lib\\json\\decoder.py\u001b[0m in \u001b[0;36mraw_decode\u001b[1;34m(self, s, idx)\u001b[0m\n\u001b[0;32m    354\u001b[0m         \u001b[1;32mexcept\u001b[0m \u001b[0mStopIteration\u001b[0m \u001b[1;32mas\u001b[0m \u001b[0merr\u001b[0m\u001b[1;33m:\u001b[0m\u001b[1;33m\u001b[0m\u001b[1;33m\u001b[0m\u001b[0m\n\u001b[1;32m--> 355\u001b[1;33m             \u001b[1;32mraise\u001b[0m \u001b[0mJSONDecodeError\u001b[0m\u001b[1;33m(\u001b[0m\u001b[1;34m\"Expecting value\"\u001b[0m\u001b[1;33m,\u001b[0m \u001b[0ms\u001b[0m\u001b[1;33m,\u001b[0m \u001b[0merr\u001b[0m\u001b[1;33m.\u001b[0m\u001b[0mvalue\u001b[0m\u001b[1;33m)\u001b[0m \u001b[1;32mfrom\u001b[0m \u001b[1;32mNone\u001b[0m\u001b[1;33m\u001b[0m\u001b[1;33m\u001b[0m\u001b[0m\n\u001b[0m\u001b[0;32m    356\u001b[0m         \u001b[1;32mreturn\u001b[0m \u001b[0mobj\u001b[0m\u001b[1;33m,\u001b[0m \u001b[0mend\u001b[0m\u001b[1;33m\u001b[0m\u001b[1;33m\u001b[0m\u001b[0m\n",
      "\u001b[1;31mJSONDecodeError\u001b[0m: Expecting value: line 1 column 1 (char 0)",
      "\nDuring handling of the above exception, another exception occurred:\n",
      "\u001b[1;31mJSONDecodeError\u001b[0m                           Traceback (most recent call last)",
      "\u001b[1;32m~\\AppData\\Local\\Temp\\ipykernel_19604\\1945767189.py\u001b[0m in \u001b[0;36m<cell line: 6>\u001b[1;34m()\u001b[0m\n\u001b[0;32m      5\u001b[0m \u001b[0mglyco\u001b[0m \u001b[1;33m=\u001b[0m \u001b[1;33m[\u001b[0m\u001b[1;33m]\u001b[0m\u001b[1;33m\u001b[0m\u001b[1;33m\u001b[0m\u001b[0m\n\u001b[0;32m      6\u001b[0m \u001b[1;32mfor\u001b[0m \u001b[0mr\u001b[0m \u001b[1;32min\u001b[0m \u001b[0mresponses\u001b[0m\u001b[1;33m:\u001b[0m\u001b[1;33m\u001b[0m\u001b[1;33m\u001b[0m\u001b[0m\n\u001b[1;32m----> 7\u001b[1;33m     \u001b[0mtest\u001b[0m \u001b[1;33m=\u001b[0m \u001b[0mr\u001b[0m\u001b[1;33m.\u001b[0m\u001b[0mjson\u001b[0m\u001b[1;33m(\u001b[0m\u001b[1;33m)\u001b[0m\u001b[1;33m\u001b[0m\u001b[1;33m\u001b[0m\u001b[0m\n\u001b[0m\u001b[0;32m      8\u001b[0m     \u001b[0mC\u001b[0m\u001b[1;33m.\u001b[0m\u001b[0mappend\u001b[0m\u001b[1;33m(\u001b[0m\u001b[0mtest\u001b[0m\u001b[1;33m[\u001b[0m\u001b[1;34m'class_results'\u001b[0m\u001b[1;33m]\u001b[0m\u001b[1;33m)\u001b[0m\u001b[1;33m\u001b[0m\u001b[1;33m\u001b[0m\u001b[0m\n\u001b[0;32m      9\u001b[0m     \u001b[0mpathway\u001b[0m\u001b[1;33m.\u001b[0m\u001b[0mappend\u001b[0m\u001b[1;33m(\u001b[0m\u001b[0mtest\u001b[0m\u001b[1;33m[\u001b[0m\u001b[1;34m'pathway_results'\u001b[0m\u001b[1;33m]\u001b[0m\u001b[1;33m)\u001b[0m\u001b[1;33m\u001b[0m\u001b[1;33m\u001b[0m\u001b[0m\n",
      "\u001b[1;32mC:\\ProgramData\\Miniconda3\\envs\\autogluon\\lib\\site-packages\\requests\\models.py\u001b[0m in \u001b[0;36mjson\u001b[1;34m(self, **kwargs)\u001b[0m\n\u001b[0;32m    915\u001b[0m                 \u001b[1;32mraise\u001b[0m \u001b[0mRequestsJSONDecodeError\u001b[0m\u001b[1;33m(\u001b[0m\u001b[0me\u001b[0m\u001b[1;33m.\u001b[0m\u001b[0mmessage\u001b[0m\u001b[1;33m)\u001b[0m\u001b[1;33m\u001b[0m\u001b[1;33m\u001b[0m\u001b[0m\n\u001b[0;32m    916\u001b[0m             \u001b[1;32melse\u001b[0m\u001b[1;33m:\u001b[0m\u001b[1;33m\u001b[0m\u001b[1;33m\u001b[0m\u001b[0m\n\u001b[1;32m--> 917\u001b[1;33m                 \u001b[1;32mraise\u001b[0m \u001b[0mRequestsJSONDecodeError\u001b[0m\u001b[1;33m(\u001b[0m\u001b[0me\u001b[0m\u001b[1;33m.\u001b[0m\u001b[0mmsg\u001b[0m\u001b[1;33m,\u001b[0m \u001b[0me\u001b[0m\u001b[1;33m.\u001b[0m\u001b[0mdoc\u001b[0m\u001b[1;33m,\u001b[0m \u001b[0me\u001b[0m\u001b[1;33m.\u001b[0m\u001b[0mpos\u001b[0m\u001b[1;33m)\u001b[0m\u001b[1;33m\u001b[0m\u001b[1;33m\u001b[0m\u001b[0m\n\u001b[0m\u001b[0;32m    918\u001b[0m \u001b[1;33m\u001b[0m\u001b[0m\n\u001b[0;32m    919\u001b[0m     \u001b[1;33m@\u001b[0m\u001b[0mproperty\u001b[0m\u001b[1;33m\u001b[0m\u001b[1;33m\u001b[0m\u001b[0m\n",
      "\u001b[1;31mJSONDecodeError\u001b[0m: [Errno Expecting value] <!DOCTYPE HTML PUBLIC \"-//W3C//DTD HTML 3.2 Final//EN\">\n<title>500 Internal Server Error</title>\n<h1>Internal Server Error</h1>\n<p>The server encountered an internal error and was unable to complete your request. Either the server is overloaded or there is an error in the application.</p>\n: 0"
     ]
    }
   ],
   "source": [
    "# convert results to df\n",
    "C = []\n",
    "pathway = []\n",
    "SC = []\n",
    "glyco = []\n",
    "for r in responses:\n",
    "    test = r.json()  \n",
    "    C.append(test['class_results'])              \n",
    "    pathway.append(test['pathway_results'])\n",
    "    SC.append(test['superclass_results'])\n",
    "    glyco.append(test['isglycoside'])\n",
    "    \n",
    "    \n",
    "df = pd.DataFrame({'SMILES':smiles_list,'pathway_results':pathway, 'superclass_results':SC, 'class_results':C, 'isglycoside':glyco })\n",
    "\n",
    "                    "
   ]
  },
  {
   "cell_type": "code",
   "execution_count": null,
   "id": "fe33a887",
   "metadata": {},
   "outputs": [],
   "source": [
    "df.head()"
   ]
  },
  {
   "cell_type": "code",
   "execution_count": 5,
   "id": "180dadae",
   "metadata": {},
   "outputs": [
    {
     "data": {
      "text/plain": [
       "array(['DZVIFFMYEULLBY-NSOPSRGASA-N', 'WKKBYJLXSKPKSC-VBXFOCAZSA-N',\n",
       "       'CMZFNIMQBCBHEX-KXLFRROQSA-N', ..., 'FSVJFNAIGNNGKK-UHFFFAOYSA-N',\n",
       "       'OIGNJSKKLXVSLS-VWUMJDOOSA-N', 'LRJOMUJRLNCICJ-JZYPGELDSA-N'],\n",
       "      dtype=object)"
      ]
     },
     "execution_count": 5,
     "metadata": {},
     "output_type": "execute_result"
    }
   ],
   "source": [
    "clean['INCHIKEY'].unique()"
   ]
  },
  {
   "cell_type": "code",
   "execution_count": null,
   "id": "07abbb48",
   "metadata": {},
   "outputs": [],
   "source": []
  }
 ],
 "metadata": {
  "kernelspec": {
   "display_name": "Python 3 (ipykernel)",
   "language": "python",
   "name": "python3"
  },
  "language_info": {
   "codemirror_mode": {
    "name": "ipython",
    "version": 3
   },
   "file_extension": ".py",
   "mimetype": "text/x-python",
   "name": "python",
   "nbconvert_exporter": "python",
   "pygments_lexer": "ipython3",
   "version": "3.9.13"
  },
  "varInspector": {
   "cols": {
    "lenName": 16,
    "lenType": 16,
    "lenVar": 40
   },
   "kernels_config": {
    "python": {
     "delete_cmd_postfix": "",
     "delete_cmd_prefix": "del ",
     "library": "var_list.py",
     "varRefreshCmd": "print(var_dic_list())"
    },
    "r": {
     "delete_cmd_postfix": ") ",
     "delete_cmd_prefix": "rm(",
     "library": "var_list.r",
     "varRefreshCmd": "cat(var_dic_list()) "
    }
   },
   "types_to_exclude": [
    "module",
    "function",
    "builtin_function_or_method",
    "instance",
    "_Feature"
   ],
   "window_display": false
  }
 },
 "nbformat": 4,
 "nbformat_minor": 5
}
